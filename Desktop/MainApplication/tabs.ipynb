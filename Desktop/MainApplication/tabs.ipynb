{
 "cells": [
  {
   "cell_type": "code",
   "execution_count": 2,
   "metadata": {},
   "outputs": [],
   "source": [
    "import guitarpro"
   ]
  },
  {
   "cell_type": "code",
   "execution_count": 38,
   "metadata": {},
   "outputs": [],
   "source": [
    "song = guitarpro.Song(title='Ebat ravilya')\n",
    "track = guitarpro.Track(song=song, name='Zalupa hacha')\n",
    "track.strings = [guitarpro.GuitarString(n, v)\n",
    "                 for n, v in enumerate([64, 59, 55, 50, 45, 40], start=1)]\n",
    "#measure = guitarpro.Measure(track=track, header='Header 1')\n",
    "#voice = guitarpro.Voice(measure=measure)\n",
    "\n",
    "beat = guitarpro.Beat(voice=track.measures[0].voices[0])\n",
    "beat.notes.append(guitarpro.Note(beat=beat, value=120))\n",
    "\n",
    "track.measures[0].voices[0].beats = [beat]\n",
    "#measure.voices = [voice]\n",
    "#track.measures[0] = measure\n",
    "song.tracks[0] = track\n",
    "\n",
    "guitarpro.write(song, 'blank.gp')"
   ]
  },
  {
   "cell_type": "code",
   "execution_count": 32,
   "metadata": {},
   "outputs": [],
   "source": [
    "song = guitarpro.Song()\n",
    "track = guitarpro.Track(song=song, name='Track 1')\n",
    "track.strings = [guitarpro.GuitarString(n, v)\n",
    "                 for n, v in enumerate([64, 59, 55, 50, 45, 40], start=1)]\n",
    "measure = guitarpro.Measure(track=track, header='header1')\n",
    "measure.voices = [guitarpro.Voice(measure=measure), guitarpro.Voice(measure=measure)]\n",
    "for voice in measure.voices:\n",
    "    voice.beats.append(guitarpro.Beat(voice=voice))\n",
    "track.measures.append(measure)\n",
    "song.tracks.append(track)\n",
    "\n",
    "guitarpro.write(song, 'blank.gp5')"
   ]
  },
  {
   "cell_type": "code",
   "execution_count": 47,
   "metadata": {},
   "outputs": [],
   "source": [
    "template = guitarpro.parse('blank.gp5')\n",
    "measure_list = template.tracks[0].measures\n",
    "beat_list = template.tracks[0].measures[0].voices[0].beats\n",
    "#del beat_list[0]\n",
    "new_beat = guitarpro.Beat(template.tracks[0].measures[0].voices[0], duration=guitarpro.Duration(value=8))\n",
    "new_note = guitarpro.Note(new_beat, value=5, string=2, type=guitarpro.NoteType.normal)\n",
    "new_beat.notes.append(new_note)\n",
    "beat_list.append(new_beat)\n",
    "guitarpro.write(template, 'blank2.gp5')"
   ]
  }
 ],
 "metadata": {
  "kernelspec": {
   "display_name": "Python 3.10.4 64-bit",
   "language": "python",
   "name": "python3"
  },
  "language_info": {
   "codemirror_mode": {
    "name": "ipython",
    "version": 3
   },
   "file_extension": ".py",
   "mimetype": "text/x-python",
   "name": "python",
   "nbconvert_exporter": "python",
   "pygments_lexer": "ipython3",
   "version": "3.10.4"
  },
  "orig_nbformat": 4,
  "vscode": {
   "interpreter": {
    "hash": "369f2c481f4da34e4445cda3fffd2e751bd1c4d706f27375911949ba6bb62e1c"
   }
  }
 },
 "nbformat": 4,
 "nbformat_minor": 2
}
