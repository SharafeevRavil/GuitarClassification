{
 "cells": [
  {
   "cell_type": "code",
   "execution_count": 1,
   "metadata": {},
   "outputs": [],
   "source": [
    "import json\n",
    "import guitarpro\n",
    "from AIModule.Predictor import Predictor\n",
    "import AIModule.Settings as Settings"
   ]
  },
  {
   "cell_type": "code",
   "execution_count": 38,
   "metadata": {},
   "outputs": [],
   "source": [
    "song = guitarpro.Song(title='Ebat ravilya')\n",
    "track = guitarpro.Track(song=song, name='Zalupa hacha')\n",
    "track.strings = [guitarpro.GuitarString(n, v)\n",
    "                 for n, v in enumerate([64, 59, 55, 50, 45, 40], start=1)]\n",
    "#measure = guitarpro.Measure(track=track, header='Header 1')\n",
    "#voice = guitarpro.Voice(measure=measure)\n",
    "\n",
    "beat = guitarpro.Beat(voice=track.measures[0].voices[0])\n",
    "beat.notes.append(guitarpro.Note(beat=beat, value=120))\n",
    "\n",
    "track.measures[0].voices[0].beats = [beat]\n",
    "#measure.voices = [voice]\n",
    "#track.measures[0] = measure\n",
    "song.tracks[0] = track\n",
    "\n",
    "guitarpro.write(song, 'blank.gp')"
   ]
  },
  {
   "cell_type": "code",
   "execution_count": 1,
   "metadata": {},
   "outputs": [
    {
     "ename": "NameError",
     "evalue": "name 'guitarpro' is not defined",
     "output_type": "error",
     "traceback": [
      "\u001b[1;31m---------------------------------------------------------------------------\u001b[0m",
      "\u001b[1;31mNameError\u001b[0m                                 Traceback (most recent call last)",
      "\u001b[1;32mf:\\Repos\\GuitarClassification\\Desktop\\MainApplication\\tabs.ipynb Ячейка 3\u001b[0m in \u001b[0;36m<cell line: 1>\u001b[1;34m()\u001b[0m\n\u001b[1;32m----> <a href='vscode-notebook-cell:/f%3A/Repos/GuitarClassification/Desktop/MainApplication/tabs.ipynb#W2sZmlsZQ%3D%3D?line=0'>1</a>\u001b[0m song \u001b[39m=\u001b[39m guitarpro\u001b[39m.\u001b[39mSong()\n\u001b[0;32m      <a href='vscode-notebook-cell:/f%3A/Repos/GuitarClassification/Desktop/MainApplication/tabs.ipynb#W2sZmlsZQ%3D%3D?line=1'>2</a>\u001b[0m track \u001b[39m=\u001b[39m guitarpro\u001b[39m.\u001b[39mTrack(song\u001b[39m=\u001b[39msong, name\u001b[39m=\u001b[39m\u001b[39m'\u001b[39m\u001b[39mTrack 1\u001b[39m\u001b[39m'\u001b[39m)\n\u001b[0;32m      <a href='vscode-notebook-cell:/f%3A/Repos/GuitarClassification/Desktop/MainApplication/tabs.ipynb#W2sZmlsZQ%3D%3D?line=2'>3</a>\u001b[0m track\u001b[39m.\u001b[39mstrings \u001b[39m=\u001b[39m [guitarpro\u001b[39m.\u001b[39mGuitarString(n, v)\n\u001b[0;32m      <a href='vscode-notebook-cell:/f%3A/Repos/GuitarClassification/Desktop/MainApplication/tabs.ipynb#W2sZmlsZQ%3D%3D?line=3'>4</a>\u001b[0m                  \u001b[39mfor\u001b[39;00m n, v \u001b[39min\u001b[39;00m \u001b[39menumerate\u001b[39m([\u001b[39m64\u001b[39m, \u001b[39m59\u001b[39m, \u001b[39m55\u001b[39m, \u001b[39m50\u001b[39m, \u001b[39m45\u001b[39m, \u001b[39m40\u001b[39m], start\u001b[39m=\u001b[39m\u001b[39m1\u001b[39m)]\n",
      "\u001b[1;31mNameError\u001b[0m: name 'guitarpro' is not defined"
     ]
    }
   ],
   "source": [
    "song = guitarpro.Song()\n",
    "track = guitarpro.Track(song=song, name='Track 1')\n",
    "track.strings = [guitarpro.GuitarString(n, v)\n",
    "                 for n, v in enumerate([64, 59, 55, 50, 45, 40], start=1)]\n",
    "measure = guitarpro.Measure(track=track, header='header1')\n",
    "measure.voices = [guitarpro.Voice(measure=measure), guitarpro.Voice(measure=measure)]\n",
    "for voice in measure.voices:\n",
    "    voice.beats.append(guitarpro.Beat(voice=voice))\n",
    "track.measures.append(measure)\n",
    "song.tracks.append(track)\n",
    "\n",
    "guitarpro.write(song, 'blank.gp5')"
   ]
  },
  {
   "cell_type": "code",
   "execution_count": 12,
   "metadata": {},
   "outputs": [],
   "source": [
    "template = guitarpro.parse('blank.gp5')\n",
    "template.tracks[0].name='Guitar'\n",
    "beat_list = template.tracks[0].measures[0].voices[0].beats\n",
    "beat_list.clear()\n",
    "\n",
    "\n",
    "for i in range(5):\n",
    "    new_beat = guitarpro.Beat(template.tracks[0].measures[0].voices[0], duration=guitarpro.Duration(value=8))\n",
    "    new_beat.status=guitarpro.BeatStatus.normal\n",
    "    new_beat.notes.append(guitarpro.Note(new_beat, value=5, string=2, type=guitarpro.NoteType.normal))\n",
    "    new_beat.notes.append(guitarpro.Note(new_beat, value=5, string=3, type=guitarpro.NoteType.normal))\n",
    "\n",
    "    beat_list.append(new_beat)\n",
    "\n",
    "\n",
    "guitarpro.write(template, 'blank2.gp5')"
   ]
  },
  {
   "cell_type": "code",
   "execution_count": 14,
   "metadata": {},
   "outputs": [],
   "source": [
    "def create(filename):\n",
    "    p = Predictor()\n",
    "    beats = p.predict(filename, './AIModule')\n",
    "\n",
    "    template = guitarpro.parse('blank.gp5')\n",
    "    template.tracks[0].name='Guitar'\n",
    "    beat_list = template.tracks[0].measures[0].voices[0].beats\n",
    "    beat_list.clear()\n",
    "    prev = [-1,-1,-1,-1,-1,-1]\n",
    "\n",
    "    for beat in beats:\n",
    "        new_beat = guitarpro.Beat(template.tracks[0].measures[0].voices[0], duration=guitarpro.Duration(value=8))\n",
    "        new_beat.status=guitarpro.BeatStatus.normal\n",
    "        for i in range(Settings.num_strings):\n",
    "            if beat[i] != -1 and beat[i] != prev[i]:\n",
    "                new_beat.notes.append(guitarpro.Note(new_beat, value=beat[i], string=i+1, type=guitarpro.NoteType.normal))\n",
    "            prev[i] = beat[i]\n",
    "        if new_beat.notes:\n",
    "            beat_list.append(new_beat)\n",
    "\n",
    "    guitarpro.write(template, 'tabs.gp5')"
   ]
  },
  {
   "cell_type": "code",
   "execution_count": 15,
   "metadata": {},
   "outputs": [
    {
     "name": "stdout",
     "output_type": "stream",
     "text": [
      "3/3 [==============================] - 0s 66ms/step\n"
     ]
    }
   ],
   "source": [
    "file = 'F:\\Repos\\GuitarClassification\\Desktop\\MainApplication\\AIModule/audio_2022-09-15_14-10-56.mp3'\n",
    "create(file)"
   ]
  }
 ],
 "metadata": {
  "kernelspec": {
   "display_name": "Python 3.10.4 64-bit",
   "language": "python",
   "name": "python3"
  },
  "language_info": {
   "codemirror_mode": {
    "name": "ipython",
    "version": 3
   },
   "file_extension": ".py",
   "mimetype": "text/x-python",
   "name": "python",
   "nbconvert_exporter": "python",
   "pygments_lexer": "ipython3",
   "version": "3.10.4"
  },
  "orig_nbformat": 4,
  "vscode": {
   "interpreter": {
    "hash": "369f2c481f4da34e4445cda3fffd2e751bd1c4d706f27375911949ba6bb62e1c"
   }
  }
 },
 "nbformat": 4,
 "nbformat_minor": 2
}
