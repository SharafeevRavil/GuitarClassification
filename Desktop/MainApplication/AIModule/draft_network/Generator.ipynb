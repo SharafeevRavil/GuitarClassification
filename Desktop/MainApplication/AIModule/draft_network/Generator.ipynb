{
 "cells": [
  {
   "cell_type": "code",
   "execution_count": 1,
   "metadata": {},
   "outputs": [],
   "source": [
    "import pandas as pd\n",
    "import numpy as np\n",
    "import math"
   ]
  },
  {
   "cell_type": "markdown",
   "metadata": {},
   "source": [
    "Функция расчета нового элемента регистра"
   ]
  },
  {
   "cell_type": "code",
   "execution_count": 2,
   "metadata": {},
   "outputs": [],
   "source": [
    "def sum_on_abs_2(a, b):\n",
    "    if a == 1 and b != 1:\n",
    "        return 0\n",
    "    return a - b"
   ]
  },
  {
   "cell_type": "markdown",
   "metadata": {},
   "source": [
    "Генерация новых последовательностей"
   ]
  },
  {
   "cell_type": "code",
   "execution_count": 3,
   "metadata": {},
   "outputs": [],
   "source": [
    "def create_sequences(N, n, k, pows):\n",
    "    ar = []\n",
    "    sequence = []\n",
    "\n",
    "    sequence.append(1)\n",
    "    for i in range(1, n):\n",
    "        sequence.append(0)\n",
    "    \n",
    "    ar.append(sequence)\n",
    "    last_seq = sequence\n",
    "\n",
    "    for i in range(1, N):\n",
    "        for t in range(0, k):\n",
    "            sequence = []\n",
    "            s = 0\n",
    "            for j in range(0, len(last_seq)):\n",
    "                if j in pows:\n",
    "                    s = sum_on_abs_2(s, last_seq[j])\n",
    "            for j in range(0, len(last_seq)):\n",
    "                if j == len(last_seq) - 1:\n",
    "                    sequence.append(s)\n",
    "                else:\n",
    "                    sequence.append(last_seq[j+1])\n",
    "            last_seq = sequence\n",
    "        ar.append(sequence)\n",
    "    return ar"
   ]
  },
  {
   "cell_type": "markdown",
   "metadata": {},
   "source": [
    "Перевод полученных последовательностей из десятичной в двоичную систему счисления"
   ]
  },
  {
   "cell_type": "code",
   "execution_count": 4,
   "metadata": {},
   "outputs": [],
   "source": [
    "def get_sequence_of_numbers(sequence):\n",
    "    seq_el = []\n",
    "\n",
    "    for seq in sequence: \n",
    "        s = 0\n",
    "        for i in range(0, len(seq)):\n",
    "            if seq[i] == 1:\n",
    "                s = s + 2 ** i\n",
    "        seq_el.append(s)   \n",
    "    return seq_el"
   ]
  },
  {
   "cell_type": "markdown",
   "metadata": {},
   "source": [
    "Создание начального вектора pi"
   ]
  },
  {
   "cell_type": "code",
   "execution_count": 5,
   "metadata": {},
   "outputs": [],
   "source": [
    "def create_pi_vector(m, d, num, N):\n",
    "    pi = []\n",
    "    count_of_elements = []\n",
    "\n",
    "    for i in range(0, m-d):\n",
    "        pi.append(num/N)\n",
    "        count_of_elements.append(num)\n",
    "    \n",
    "    for i in range(0, d):\n",
    "        pi.append((num+1)/N)\n",
    "        count_of_elements.append(num+1)        \n",
    "    return (pi, count_of_elements)"
   ]
  },
  {
   "cell_type": "code",
   "execution_count": 6,
   "metadata": {},
   "outputs": [],
   "source": [
    "def calculate_dictionary_of_numbers_in_intervals(count_of_elements, numbers):\n",
    "    d_of_y = {}\n",
    "    counter = 0\n",
    "\n",
    "    for i in range(0, len(count_of_elements)):\n",
    "        for j in range(0, count_of_elements[i]):\n",
    "            d_of_y[numbers[counter]] = i\n",
    "            counter += 1\n",
    "    counter = 0\n",
    "    return d_of_y"
   ]
  },
  {
   "cell_type": "markdown",
   "metadata": {},
   "source": [
    "Считаем вектор b"
   ]
  },
  {
   "cell_type": "code",
   "execution_count": 7,
   "metadata": {},
   "outputs": [],
   "source": [
    "def calculate_vector_b(seq_el, d_of_y):\n",
    "    b = []\n",
    "    for el in seq_el:\n",
    "        b.append(d_of_y[el])\n",
    "    return b"
   ]
  },
  {
   "cell_type": "markdown",
   "metadata": {},
   "source": [
    "Получаем биграммы"
   ]
  },
  {
   "cell_type": "code",
   "execution_count": 8,
   "metadata": {},
   "outputs": [],
   "source": [
    "def get_bigrams(b):\n",
    "    bigram = {}\n",
    "\n",
    "    for i in range(0, len(b)):\n",
    "        if i == len(b) - 1:\n",
    "            t = 0\n",
    "        else:\n",
    "            t = i + 1\n",
    "        if f'{b[i]}{b[t]}' in bigram.keys():\n",
    "            bigram[f'{b[i]}{b[t]}'] += 1\n",
    "        else:\n",
    "            bigram[f'{b[i]}{b[t]}'] = 1\n",
    "    return bigram"
   ]
  },
  {
   "cell_type": "markdown",
   "metadata": {},
   "source": [
    "Получив все необходимые параметры, считаем матрицу"
   ]
  },
  {
   "cell_type": "code",
   "execution_count": 9,
   "metadata": {},
   "outputs": [],
   "source": [
    "def calculate_matrix(m, bigram, count_of_elements):\n",
    "    matrix = []\n",
    "    ar = []\n",
    "\n",
    "    for i in range(0, m):\n",
    "        for j in range(0, m):\n",
    "            if f'{i}{j}' in bigram.keys(): \n",
    "                ar.append(bigram[f'{i}{j}']/count_of_elements[i])\n",
    "            else:\n",
    "                ar.append(0)\n",
    "        matrix.append(ar)\n",
    "        ar = []\n",
    "    return matrix"
   ]
  },
  {
   "cell_type": "markdown",
   "metadata": {},
   "source": [
    "Рассчитываем энтропию"
   ]
  },
  {
   "cell_type": "code",
   "execution_count": 10,
   "metadata": {},
   "outputs": [],
   "source": [
    "def get_entropy(k, n, pows, N, m, d, num):    \n",
    "    sequence = create_sequences(N,n,k,pows)\n",
    "    print('Sequences:\\n')\n",
    "    for seq in sequence:\n",
    "        seq.reverse()\n",
    "        print(seq)\n",
    "        seq.reverse()\n",
    "        \n",
    "    seq_el = get_sequence_of_numbers(sequence)\n",
    "    print(f'\\nNumbers in sequence:\\n{seq_el}\\n')\n",
    "    \n",
    "    vector = create_pi_vector(m, d, num, N)\n",
    "    print(f'Vector pi:\\n{vector[0]}\\n')\n",
    "    print(f'Vector a:\\n{vector[1]}\\n')\n",
    "    \n",
    "    numbers = []\n",
    "    for i in range(1,N+1):\n",
    "        numbers.append(i)\n",
    "    \n",
    "    d_of_y = calculate_dictionary_of_numbers_in_intervals(vector[1], numbers)\n",
    "    \n",
    "    b = calculate_vector_b(seq_el, d_of_y)\n",
    "    print(f'Vector b:\\n{b}\\n')\n",
    "    \n",
    "    bigram = get_bigrams(b)\n",
    "    \n",
    "    matrix = calculate_matrix(m, bigram, vector[1])\n",
    "    print(f'Matrix:\\n{matrix}\\n')\n",
    "    \n",
    "    H = 0\n",
    "    for i in range(0, m):\n",
    "        for j in range(0, m):\n",
    "            if matrix[i][j] != 0:\n",
    "                H = H + vector[0][i] * matrix[i][j] * math.log(2, matrix[i][j])\n",
    "    H = -H\n",
    "    return H"
   ]
  },
  {
   "cell_type": "markdown",
   "metadata": {},
   "source": [
    "Метод для извлечения степенений при х для работы программы"
   ]
  },
  {
   "cell_type": "code",
   "execution_count": 17,
   "metadata": {},
   "outputs": [],
   "source": [
    "def get_pows(s):    \n",
    "    pows = []\n",
    "    s = s.split('+')\n",
    "    for el in s:\n",
    "        if el == ' 1':\n",
    "            pows.append(0)\n",
    "        else:\n",
    "            pows.append(int(el.split('^')[1]))\n",
    "    \n",
    "    return pows"
   ]
  },
  {
   "cell_type": "code",
   "execution_count": null,
   "metadata": {},
   "outputs": [],
   "source": []
  }
 ],
 "metadata": {
  "kernelspec": {
   "display_name": "Python 3",
   "language": "python",
   "name": "python3"
  },
  "language_info": {
   "codemirror_mode": {
    "name": "ipython",
    "version": 3
   },
   "file_extension": ".py",
   "mimetype": "text/x-python",
   "name": "python",
   "nbconvert_exporter": "python",
   "pygments_lexer": "ipython3",
   "version": "3.8.3"
  }
 },
 "nbformat": 4,
 "nbformat_minor": 4
}
