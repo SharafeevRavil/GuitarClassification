{
 "cells": [
  {
   "cell_type": "code",
   "execution_count": 3,
   "metadata": {},
   "outputs": [],
   "source": [
    "import jams\n",
    "from AudioPreprocessor import AudioPreprocessor\n",
    "from DatasetPreprocessor import DatasetPreprocessor\n",
    "import Settings\n",
    "import matplotlib.pyplot as plt\n",
    "import librosa\n",
    "import librosa.display\n",
    "import numpy as np\n",
    "\n",
    "datasetPreprocessor = DatasetPreprocessor()\n",
    "audioPreprocessor = AudioPreprocessor()"
   ]
  },
  {
   "cell_type": "code",
   "execution_count": 9,
   "metadata": {},
   "outputs": [],
   "source": [
    "w = 480\n",
    "h = 320\n",
    "\n",
    "anno_path = './YOLO/_annotations.txt'\n",
    "px = 1/plt.rcParams['figure.dpi']  # pixel in inches\n",
    "dpi = 100"
   ]
  },
  {
   "cell_type": "code",
   "execution_count": 20,
   "metadata": {},
   "outputs": [],
   "source": [
    "def save_image(filename, audio_chunks, folder):\n",
    "    fig = plt.figure(frameon=False, figsize=(w/dpi, h/dpi), dpi=dpi)\n",
    "    ax = plt.Axes(fig, [0., 0., 1., 1.])\n",
    "    ax.set_axis_off()\n",
    "    fig.add_axes(ax)\n",
    "    img = librosa.display.specshow(librosa.amplitude_to_db(audio_chunks,\n",
    "                                                        ref=np.max))\n",
    "    plt.savefig(f'./YOLO/{folder}/{filename}')\n",
    "\n",
    "def save_anno(filename, anno_file):\n",
    "    dur = librosa.get_duration(filename = Settings.mic_path + filename + \"_mic.wav\")\n",
    "    \n",
    "    file_anno = Settings.annotations_path + filename + \".jams\"\n",
    "    jam = jams.load(file_anno)\n",
    "\n",
    "    notes = []\n",
    "    for string_num in range(6):\n",
    "        anno = jam.annotations[\"note_midi\"][string_num]\n",
    "        for note in anno[\"data\"]:\n",
    "            notes.append([round((note[0] / dur) * w), round(((note[0] + note[1]) / dur) * w)])\n",
    "\n",
    "    anno_file.write(f'{filename}.png')\n",
    "    for note in notes:\n",
    "        anno_file.write(f' {note[0]},0,{note[1]},{h},0')\n",
    "    anno_file.write('\\n')\n",
    "\n",
    "def process_file(filename, anno_file, folder):\n",
    "    file_audio = Settings.mic_path + filename + \"_mic.wav\"\n",
    "    audio_chunks = audioPreprocessor.process_audiofile(file_audio)\n",
    "    audio_chunks = np.swapaxes(audio_chunks, 0, 1)\n",
    "\n",
    "    save_image(filename, audio_chunks, folder)\n",
    "    save_anno(filename, anno_file)\n",
    "\n",
    "def split_files(files):\n",
    "    train_files = []\n",
    "    test_files = []\n",
    "    val_files = []\n",
    "    for i in files:\n",
    "        result = np.random.choice(3, p=[0.8, 0.1, 0.1])\n",
    "        if result == 0:\n",
    "            train_files.append(i)\n",
    "        elif result == 1:\n",
    "            test_files.append(i)\n",
    "        else:\n",
    "            val_files.append(i)\n",
    "    return train_files, test_files, val_files\n",
    "\n",
    "def process_files():\n",
    "    files = datasetPreprocessor.get_all_filenames()\n",
    "    train_files, test_files, val_files = split_files(files)\n",
    "    with open('./YOLO/train/_annotations.txt', 'w') as anno_file:\n",
    "        for file in train_files:\n",
    "            process_file(file, anno_file, 'train')\n",
    "    with open('./YOLO/test/_annotations.txt', 'w') as anno_file:\n",
    "        for file in test_files:\n",
    "            process_file(file, anno_file, 'test')\n",
    "    with open('./YOLO/val/_annotations.txt', 'w') as anno_file:\n",
    "        for file in val_files:\n",
    "            process_file(file, anno_file, 'val')        \n"
   ]
  },
  {
   "cell_type": "code",
   "execution_count": null,
   "metadata": {},
   "outputs": [],
   "source": [
    "process_files()"
   ]
  }
 ],
 "metadata": {
  "kernelspec": {
   "display_name": "Python 3",
   "language": "python",
   "name": "python3"
  },
  "language_info": {
   "codemirror_mode": {
    "name": "ipython",
    "version": 3
   },
   "file_extension": ".py",
   "mimetype": "text/x-python",
   "name": "python",
   "nbconvert_exporter": "python",
   "pygments_lexer": "ipython3",
   "version": "3.10.4"
  },
  "orig_nbformat": 4
 },
 "nbformat": 4,
 "nbformat_minor": 2
}
