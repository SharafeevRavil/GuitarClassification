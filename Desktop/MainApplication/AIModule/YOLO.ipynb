{
 "cells": [
  {
   "cell_type": "code",
   "execution_count": 6,
   "metadata": {},
   "outputs": [],
   "source": [
    "import jams\n",
    "from AudioPreprocessor import AudioPreprocessor\n",
    "from DatasetPreprocessor import DatasetPreprocessor\n",
    "import Settings\n",
    "import matplotlib.pyplot as plt\n",
    "import librosa\n",
    "import librosa.display\n",
    "import numpy as np\n",
    "\n",
    "datasetPreprocessor = DatasetPreprocessor()\n",
    "audioPreprocessor = AudioPreprocessor()"
   ]
  },
  {
   "cell_type": "code",
   "execution_count": 8,
   "metadata": {},
   "outputs": [],
   "source": [
    "w = 192\n",
    "h = 192\n",
    "\n",
    "anno_path = './YOLO/_annotations.txt'\n",
    "px = 1/plt.rcParams['figure.dpi']  # pixel in inches\n",
    "dpi = 100"
   ]
  },
  {
   "cell_type": "code",
   "execution_count": 58,
   "metadata": {},
   "outputs": [],
   "source": [
    "def save_image(filename, audio_parts, folder):\n",
    "    for i in range(len(audio_parts)):\n",
    "        fig = plt.figure(frameon=False, figsize=(w/dpi, h/dpi), dpi=dpi)\n",
    "        ax = plt.Axes(fig, [0., 0., 1., 1.])\n",
    "        ax.set_axis_off()\n",
    "        fig.add_axes(ax)\n",
    "        librosa.display.specshow(librosa.amplitude_to_db(np.swapaxes(audio_parts[i], 0, 1), ref=np.max), y_axis='linear', x_axis='time')\n",
    "        plt.savefig(f'./YOLO/{folder}/{filename}_{i}')\n",
    "        plt.clf()\n",
    "\n",
    "def save_anno(filename, parts_borders, chunk_dur, anno_file, folder):\n",
    "\n",
    "    def to_pixels(time, part_start, chunk_dur):\n",
    "        return round((time - part_start) / chunk_dur)\n",
    "\n",
    "\n",
    "    file_anno = Settings.annotations_path + filename + \".jams\"\n",
    "    jam = jams.load(file_anno)\n",
    "\n",
    "    for i in range(len(parts_borders)):\n",
    "        anno_file.write(f'.\\{folder}\\{filename}_{i}.png')\n",
    "        for string_num in range(6):\n",
    "            anno = jam.annotations[\"note_midi\"][string_num]\n",
    "            for note in anno[\"data\"]:\n",
    "                end = note[0] + note[1]\n",
    "                if note[0] < parts_borders[i][0] and parts_borders[i][0] < end < parts_borders[i][1]:\n",
    "                    anno_file.write(f' {0},0,{to_pixels(end, parts_borders[i][0], chunk_dur)},{h-1},0')\n",
    "                elif end > parts_borders[i][1] and parts_borders[i][0] < note[0] < parts_borders[i][1]:\n",
    "                    anno_file.write(f' {to_pixels(note[0], parts_borders[i][0], chunk_dur)},0,{191},{h-1},0')\n",
    "                elif parts_borders[i][0] < note[0] < parts_borders[i][1] and parts_borders[i][0] < end < parts_borders[i][1]:\n",
    "                    anno_file.write(f' {to_pixels(note[0], parts_borders[i][0], chunk_dur)},0,{to_pixels(end, parts_borders[i][0], chunk_dur)},{h-1},0')\n",
    "        anno_file.write('\\n')\n",
    "\n",
    "\n",
    "def process_file(filename, anno_file, folder):\n",
    "    file_audio = Settings.mic_path + filename + \"_mic.wav\"\n",
    "    audio_chunks = audioPreprocessor.process_audiofile(file_audio)\n",
    "    dur = librosa.get_duration(filename = Settings.mic_path + filename + \"_mic.wav\")\n",
    "    chunk_dur = dur/audio_chunks.shape[0]\n",
    "\n",
    "    audio_parts, parts_borders = split_file(audio_chunks, chunk_dur)\n",
    "\n",
    "    save_image(filename, audio_parts, folder)\n",
    "    save_anno(filename, parts_borders, chunk_dur, anno_file, folder)\n",
    "\n",
    "def split_file(audio_chunks, chunk_dur):\n",
    "    audio_parts = []\n",
    "    parts_borders = []\n",
    "    for i in range(0, audio_chunks.shape[0], 96):\n",
    "        if i + 192 > audio_chunks.shape[0]:\n",
    "            last_part = np.zeros((192,192))\n",
    "            last_part[0:audio_chunks.shape[0]-i] = audio_chunks[i:audio_chunks.shape[0]]    \n",
    "            audio_parts.append(last_part)\n",
    "            parts_borders.append([i*chunk_dur,(i+192)*chunk_dur])\n",
    "            break\n",
    "        else:\n",
    "            audio_parts.append(np.array(audio_chunks[i:i+192]))\n",
    "            parts_borders.append([i*chunk_dur,(i+192)*chunk_dur])\n",
    "    return audio_parts, parts_borders\n",
    "\n",
    "\n",
    "def split_files(files):\n",
    "    train_files = []\n",
    "    test_files = []\n",
    "    val_files = []\n",
    "    for i in files:\n",
    "        result = np.random.choice(3, p=[0.8, 0.1, 0.1])\n",
    "        if result == 0:\n",
    "            train_files.append(i)\n",
    "        elif result == 1:\n",
    "            test_files.append(i)\n",
    "        else:\n",
    "            val_files.append(i)\n",
    "    return train_files, test_files, val_files\n",
    "\n",
    "def process_files(test=False):\n",
    "    files = datasetPreprocessor.get_all_filenames()\n",
    "    train_files, test_files, val_files = split_files(files)\n",
    "    if test:\n",
    "        with open('./YOLO/rofl/_annotations.txt', 'w') as anno_file:\n",
    "            process_file('00_BN1-129-Eb_comp' , anno_file, 'rofl')\n",
    "    else:\n",
    "        with open('./YOLO/train/_annotations.txt', 'w') as anno_file:\n",
    "            for file in train_files:\n",
    "                process_file(file, anno_file, 'train')\n",
    "        with open('./YOLO/test/_annotations.txt', 'w') as anno_file:\n",
    "            for file in test_files:\n",
    "                process_file(file, anno_file, 'test')\n",
    "        with open('./YOLO/val/_annotations.txt', 'w') as anno_file:\n",
    "            for file in val_files:\n",
    "                process_file(file, anno_file, 'val')        \n"
   ]
  },
  {
   "cell_type": "code",
   "execution_count": 59,
   "metadata": {},
   "outputs": [
    {
     "data": {
      "text/plain": [
       "<Figure size 192x192 with 0 Axes>"
      ]
     },
     "metadata": {},
     "output_type": "display_data"
    },
    {
     "data": {
      "text/plain": [
       "<Figure size 192x192 with 0 Axes>"
      ]
     },
     "metadata": {},
     "output_type": "display_data"
    },
    {
     "data": {
      "text/plain": [
       "<Figure size 192x192 with 0 Axes>"
      ]
     },
     "metadata": {},
     "output_type": "display_data"
    },
    {
     "data": {
      "text/plain": [
       "<Figure size 192x192 with 0 Axes>"
      ]
     },
     "metadata": {},
     "output_type": "display_data"
    },
    {
     "data": {
      "text/plain": [
       "<Figure size 192x192 with 0 Axes>"
      ]
     },
     "metadata": {},
     "output_type": "display_data"
    },
    {
     "data": {
      "text/plain": [
       "<Figure size 192x192 with 0 Axes>"
      ]
     },
     "metadata": {},
     "output_type": "display_data"
    },
    {
     "data": {
      "text/plain": [
       "<Figure size 192x192 with 0 Axes>"
      ]
     },
     "metadata": {},
     "output_type": "display_data"
    },
    {
     "data": {
      "text/plain": [
       "<Figure size 192x192 with 0 Axes>"
      ]
     },
     "metadata": {},
     "output_type": "display_data"
    },
    {
     "data": {
      "text/plain": [
       "<Figure size 192x192 with 0 Axes>"
      ]
     },
     "metadata": {},
     "output_type": "display_data"
    },
    {
     "data": {
      "text/plain": [
       "<Figure size 192x192 with 0 Axes>"
      ]
     },
     "metadata": {},
     "output_type": "display_data"
    }
   ],
   "source": [
    "process_files(test=True)"
   ]
  },
  {
   "cell_type": "code",
   "execution_count": 7,
   "metadata": {},
   "outputs": [
    {
     "data": {
      "text/plain": [
       "(192, 192)"
      ]
     },
     "execution_count": 7,
     "metadata": {},
     "output_type": "execute_result"
    }
   ],
   "source": [
    "last_part = [[0]*192]*192\n",
    "last_part[0:audio_chunks.shape[0]-i] = audio_chunks[i:audio_chunks.shape[0]]\n",
    "\n",
    "(np.array([[0]*192]*192)).shape"
   ]
  }
 ],
 "metadata": {
  "kernelspec": {
   "display_name": "Python 3",
   "language": "python",
   "name": "python3"
  },
  "language_info": {
   "codemirror_mode": {
    "name": "ipython",
    "version": 3
   },
   "file_extension": ".py",
   "mimetype": "text/x-python",
   "name": "python",
   "nbconvert_exporter": "python",
   "pygments_lexer": "ipython3",
   "version": "3.10.4"
  },
  "orig_nbformat": 4
 },
 "nbformat": 4,
 "nbformat_minor": 2
}
