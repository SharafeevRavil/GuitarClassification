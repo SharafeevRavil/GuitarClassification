{
 "cells": [
  {
   "cell_type": "code",
   "execution_count": 69,
   "metadata": {},
   "outputs": [],
   "source": [
    "import matplotlib.pyplot as plt\n",
    "import librosa\n",
    "import librosa.display\n",
    "import numpy as np\n",
    "import os\n",
    "from yolo import YOLO\n",
    "from PIL import Image"
   ]
  },
  {
   "cell_type": "code",
   "execution_count": 83,
   "metadata": {},
   "outputs": [],
   "source": [
    "def create_mAP_anno(anno_path, classes_path):\n",
    "    with open(anno_path, 'r') as anno_file:\n",
    "        saveDir = os.path.dirname(anno_path) + \"/mAP_anno/\"\n",
    "        if not os.path.exists(saveDir):\n",
    "            os.makedirs(saveDir)\n",
    "        print(saveDir)\n",
    "        with open(classes_path, 'r') as classes_file:\n",
    "            classes = [yolo_class.replace('\\n', '') for yolo_class in classes_file.readlines()]\n",
    "        lines = [line.split(' ') for line in anno_file.readlines()]\n",
    "        for line in lines:\n",
    "            filename = line[0].split(\"\\\\\")[-1][:-4] + '.txt'\n",
    "            boxes = [box.replace('\\n', '').split(',') for box in line[1:]]\n",
    "            anno = [f'{classes[int(box[4])]} {box[0]} {box[1]} {box[2]} {box[3]}\\n' for box in boxes]\n",
    "            with open(saveDir + filename, 'w+') as mAP_anno_file:\n",
    "                mAP_anno_file.writelines(anno)\n",
    "\n",
    "def create_mAP_results(images_dir): #не работает, геренить через python yolo_video.py --image\n",
    "    yolo = YOLO()\n",
    "    saveDir = images_dir + \"/mAP_results/\"\n",
    "    if not os.path.exists(saveDir):\n",
    "        os.makedirs(saveDir)\n",
    "    for filename in [file for file in os.listdir(images_dir) if file.endswith('.png')]:\n",
    "        annoname = filename.split(\"\\\\\")[-1][:-4] + '.txt'\n",
    "        image = Image.open(os.path.join(images_dir,filename))\n",
    "        anno = yolo.detect_image_mAP(image)\n",
    "        with open(saveDir + annoname, 'w+') as mAP_anno_file:\n",
    "            mAP_anno_file.writelines(anno)\n",
    "    yolo.close_session()"
   ]
  },
  {
   "cell_type": "code",
   "execution_count": 84,
   "metadata": {},
   "outputs": [
    {
     "name": "stdout",
     "output_type": "stream",
     "text": [
      "./../rofl/mAP_anno/\n"
     ]
    }
   ],
   "source": [
    "create_mAP_anno('./../rofl/_annotations.txt', 'F:\\Repos\\GuitarClassification\\Desktop\\MainApplication\\AIModule\\YOLO\\keras-yolo3-master\\model_data\\\\voc_classes.txt')"
   ]
  },
  {
   "cell_type": "code",
   "execution_count": 71,
   "metadata": {},
   "outputs": [
    {
     "ename": "RuntimeError",
     "evalue": "Attempted to use a closed Session.",
     "output_type": "error",
     "traceback": [
      "\u001b[1;31m---------------------------------------------------------------------------\u001b[0m",
      "\u001b[1;31mRuntimeError\u001b[0m                              Traceback (most recent call last)",
      "\u001b[1;32mf:\\Repos\\GuitarClassification\\Desktop\\MainApplication\\AIModule\\YOLO\\keras-yolo3-master\\mAP_anno.ipynb Cell 4\u001b[0m in \u001b[0;36m<cell line: 1>\u001b[1;34m()\u001b[0m\n\u001b[1;32m----> <a href='vscode-notebook-cell:/f%3A/Repos/GuitarClassification/Desktop/MainApplication/AIModule/YOLO/keras-yolo3-master/mAP_anno.ipynb#W3sZmlsZQ%3D%3D?line=0'>1</a>\u001b[0m create_mAP_results(\u001b[39m'\u001b[39;49m\u001b[39m.\u001b[39;49m\u001b[39m'\u001b[39;49m)\n",
      "\u001b[1;32mf:\\Repos\\GuitarClassification\\Desktop\\MainApplication\\AIModule\\YOLO\\keras-yolo3-master\\mAP_anno.ipynb Cell 4\u001b[0m in \u001b[0;36mcreate_mAP_results\u001b[1;34m(images_dir)\u001b[0m\n\u001b[0;32m     <a href='vscode-notebook-cell:/f%3A/Repos/GuitarClassification/Desktop/MainApplication/AIModule/YOLO/keras-yolo3-master/mAP_anno.ipynb#W3sZmlsZQ%3D%3D?line=15'>16</a>\u001b[0m \u001b[39mdef\u001b[39;00m \u001b[39mcreate_mAP_results\u001b[39m(images_dir):\n\u001b[1;32m---> <a href='vscode-notebook-cell:/f%3A/Repos/GuitarClassification/Desktop/MainApplication/AIModule/YOLO/keras-yolo3-master/mAP_anno.ipynb#W3sZmlsZQ%3D%3D?line=16'>17</a>\u001b[0m     yolo \u001b[39m=\u001b[39m YOLO()\n\u001b[0;32m     <a href='vscode-notebook-cell:/f%3A/Repos/GuitarClassification/Desktop/MainApplication/AIModule/YOLO/keras-yolo3-master/mAP_anno.ipynb#W3sZmlsZQ%3D%3D?line=17'>18</a>\u001b[0m     saveDir \u001b[39m=\u001b[39m os\u001b[39m.\u001b[39mpath\u001b[39m.\u001b[39mdirname(images_dir) \u001b[39m+\u001b[39m \u001b[39m\"\u001b[39m\u001b[39m/mAP_results/\u001b[39m\u001b[39m\"\u001b[39m\n\u001b[0;32m     <a href='vscode-notebook-cell:/f%3A/Repos/GuitarClassification/Desktop/MainApplication/AIModule/YOLO/keras-yolo3-master/mAP_anno.ipynb#W3sZmlsZQ%3D%3D?line=18'>19</a>\u001b[0m     \u001b[39mif\u001b[39;00m \u001b[39mnot\u001b[39;00m os\u001b[39m.\u001b[39mpath\u001b[39m.\u001b[39mexists(saveDir):\n",
      "File \u001b[1;32mf:\\Repos\\GuitarClassification\\Desktop\\MainApplication\\AIModule\\YOLO\\keras-yolo3-master\\yolo.py:43\u001b[0m, in \u001b[0;36mYOLO.__init__\u001b[1;34m(self, **kwargs)\u001b[0m\n\u001b[0;32m     41\u001b[0m \u001b[39mself\u001b[39m\u001b[39m.\u001b[39mclass_names \u001b[39m=\u001b[39m \u001b[39mself\u001b[39m\u001b[39m.\u001b[39m_get_class()\n\u001b[0;32m     42\u001b[0m \u001b[39mself\u001b[39m\u001b[39m.\u001b[39manchors \u001b[39m=\u001b[39m \u001b[39mself\u001b[39m\u001b[39m.\u001b[39m_get_anchors()\n\u001b[1;32m---> 43\u001b[0m \u001b[39mself\u001b[39m\u001b[39m.\u001b[39msess \u001b[39m=\u001b[39m K\u001b[39m.\u001b[39;49mget_session()\n\u001b[0;32m     44\u001b[0m \u001b[39mself\u001b[39m\u001b[39m.\u001b[39mboxes, \u001b[39mself\u001b[39m\u001b[39m.\u001b[39mscores, \u001b[39mself\u001b[39m\u001b[39m.\u001b[39mclasses \u001b[39m=\u001b[39m \u001b[39mself\u001b[39m\u001b[39m.\u001b[39mgenerate()\n",
      "File \u001b[1;32m~\\AppData\\Local\\Programs\\Python\\Python310\\lib\\site-packages\\keras\\backend.py:785\u001b[0m, in \u001b[0;36mget_session\u001b[1;34m(op_input_list)\u001b[0m\n\u001b[0;32m    783\u001b[0m \u001b[39mif\u001b[39;00m \u001b[39mnot\u001b[39;00m _MANUAL_VAR_INIT:\n\u001b[0;32m    784\u001b[0m     \u001b[39mwith\u001b[39;00m session\u001b[39m.\u001b[39mgraph\u001b[39m.\u001b[39mas_default():\n\u001b[1;32m--> 785\u001b[0m         _initialize_variables(session)\n\u001b[0;32m    786\u001b[0m \u001b[39mreturn\u001b[39;00m session\n",
      "File \u001b[1;32m~\\AppData\\Local\\Programs\\Python\\Python310\\lib\\site-packages\\keras\\backend.py:1251\u001b[0m, in \u001b[0;36m_initialize_variables\u001b[1;34m(session)\u001b[0m\n\u001b[0;32m   1247\u001b[0m         candidate_vars\u001b[39m.\u001b[39mappend(v)\n\u001b[0;32m   1248\u001b[0m \u001b[39mif\u001b[39;00m candidate_vars:\n\u001b[0;32m   1249\u001b[0m     \u001b[39m# This step is expensive, so we only run it on variables not already\u001b[39;00m\n\u001b[0;32m   1250\u001b[0m     \u001b[39m# marked as initialized.\u001b[39;00m\n\u001b[1;32m-> 1251\u001b[0m     is_initialized \u001b[39m=\u001b[39m session\u001b[39m.\u001b[39;49mrun(\n\u001b[0;32m   1252\u001b[0m         [tf\u001b[39m.\u001b[39;49mcompat\u001b[39m.\u001b[39;49mv1\u001b[39m.\u001b[39;49mis_variable_initialized(v) \u001b[39mfor\u001b[39;49;00m v \u001b[39min\u001b[39;49;00m candidate_vars]\n\u001b[0;32m   1253\u001b[0m     )\n\u001b[0;32m   1254\u001b[0m     \u001b[39m# TODO(kathywu): Some metric variables loaded from SavedModel are never\u001b[39;00m\n\u001b[0;32m   1255\u001b[0m     \u001b[39m# actually used, and do not have an initializer.\u001b[39;00m\n\u001b[0;32m   1256\u001b[0m     should_be_initialized \u001b[39m=\u001b[39m [\n\u001b[0;32m   1257\u001b[0m         (\u001b[39mnot\u001b[39;00m is_initialized[n]) \u001b[39mand\u001b[39;00m v\u001b[39m.\u001b[39minitializer \u001b[39mis\u001b[39;00m \u001b[39mnot\u001b[39;00m \u001b[39mNone\u001b[39;00m\n\u001b[0;32m   1258\u001b[0m         \u001b[39mfor\u001b[39;00m n, v \u001b[39min\u001b[39;00m \u001b[39menumerate\u001b[39m(candidate_vars)\n\u001b[0;32m   1259\u001b[0m     ]\n",
      "File \u001b[1;32m~\\AppData\\Local\\Programs\\Python\\Python310\\lib\\site-packages\\tensorflow\\python\\client\\session.py:968\u001b[0m, in \u001b[0;36mBaseSession.run\u001b[1;34m(self, fetches, feed_dict, options, run_metadata)\u001b[0m\n\u001b[0;32m    965\u001b[0m run_metadata_ptr \u001b[39m=\u001b[39m tf_session\u001b[39m.\u001b[39mTF_NewBuffer() \u001b[39mif\u001b[39;00m run_metadata \u001b[39melse\u001b[39;00m \u001b[39mNone\u001b[39;00m\n\u001b[0;32m    967\u001b[0m \u001b[39mtry\u001b[39;00m:\n\u001b[1;32m--> 968\u001b[0m   result \u001b[39m=\u001b[39m \u001b[39mself\u001b[39;49m\u001b[39m.\u001b[39;49m_run(\u001b[39mNone\u001b[39;49;00m, fetches, feed_dict, options_ptr,\n\u001b[0;32m    969\u001b[0m                      run_metadata_ptr)\n\u001b[0;32m    970\u001b[0m   \u001b[39mif\u001b[39;00m run_metadata:\n\u001b[0;32m    971\u001b[0m     proto_data \u001b[39m=\u001b[39m tf_session\u001b[39m.\u001b[39mTF_GetBuffer(run_metadata_ptr)\n",
      "File \u001b[1;32m~\\AppData\\Local\\Programs\\Python\\Python310\\lib\\site-packages\\tensorflow\\python\\client\\session.py:1116\u001b[0m, in \u001b[0;36mBaseSession._run\u001b[1;34m(self, handle, fetches, feed_dict, options, run_metadata)\u001b[0m\n\u001b[0;32m   1114\u001b[0m \u001b[39m# Check session.\u001b[39;00m\n\u001b[0;32m   1115\u001b[0m \u001b[39mif\u001b[39;00m \u001b[39mself\u001b[39m\u001b[39m.\u001b[39m_closed:\n\u001b[1;32m-> 1116\u001b[0m   \u001b[39mraise\u001b[39;00m \u001b[39mRuntimeError\u001b[39;00m(\u001b[39m'\u001b[39m\u001b[39mAttempted to use a closed Session.\u001b[39m\u001b[39m'\u001b[39m)\n\u001b[0;32m   1117\u001b[0m \u001b[39mif\u001b[39;00m \u001b[39mself\u001b[39m\u001b[39m.\u001b[39mgraph\u001b[39m.\u001b[39mversion \u001b[39m==\u001b[39m \u001b[39m0\u001b[39m:\n\u001b[0;32m   1118\u001b[0m   \u001b[39mraise\u001b[39;00m \u001b[39mRuntimeError\u001b[39;00m(\u001b[39m'\u001b[39m\u001b[39mThe Session graph is empty. Add operations to the \u001b[39m\u001b[39m'\u001b[39m\n\u001b[0;32m   1119\u001b[0m                      \u001b[39m'\u001b[39m\u001b[39mgraph before calling run().\u001b[39m\u001b[39m'\u001b[39m)\n",
      "\u001b[1;31mRuntimeError\u001b[0m: Attempted to use a closed Session."
     ]
    }
   ],
   "source": [
    "create_mAP_results('.')"
   ]
  }
 ],
 "metadata": {
  "kernelspec": {
   "display_name": "Python 3",
   "language": "python",
   "name": "python3"
  },
  "language_info": {
   "codemirror_mode": {
    "name": "ipython",
    "version": 3
   },
   "file_extension": ".py",
   "mimetype": "text/x-python",
   "name": "python",
   "nbconvert_exporter": "python",
   "pygments_lexer": "ipython3",
   "version": "3.10.4"
  },
  "orig_nbformat": 4
 },
 "nbformat": 4,
 "nbformat_minor": 2
}
