{
 "cells": [
  {
   "cell_type": "code",
   "execution_count": 1,
   "metadata": {},
   "outputs": [],
   "source": [
    "import CnnModel as cnnModel\n",
    "import os\n",
    "import Settings\n",
    "from ModelTeacher import ModelTeacher, LossHistory\n",
    "from DataGenerator import DataGenerator\n",
    "import json\n",
    "\n",
    "import librosa\n",
    "import librosa.display\n",
    "import matplotlib.pyplot as plt\n",
    "import numpy as np"
   ]
  },
  {
   "cell_type": "code",
   "execution_count": 7,
   "metadata": {},
   "outputs": [],
   "source": [
    "model = cnnModel.create_model()"
   ]
  },
  {
   "cell_type": "code",
   "execution_count": 8,
   "metadata": {},
   "outputs": [],
   "source": [
    "mt = ModelTeacher()\n",
    "\n",
    "ids = mt.load_IDs()\n",
    "songs = mt.group_by_song(ids)\n",
    "#songs = mt.remove_excess_ids(songs)\n",
    "ids_train, ids_test = mt.split_songs(songs, 42)\n",
    "gen_train = DataGenerator(ids_train)\n",
    "gen_test = DataGenerator(ids_test)"
   ]
  },
  {
   "cell_type": "code",
   "execution_count": 9,
   "metadata": {},
   "outputs": [
    {
     "name": "stdout",
     "output_type": "stream",
     "text": [
      "377688 94872\n"
     ]
    }
   ],
   "source": [
    "print(len(ids_train), len(ids_test))"
   ]
  },
  {
   "cell_type": "code",
   "execution_count": 10,
   "metadata": {},
   "outputs": [
    {
     "name": "stdout",
     "output_type": "stream",
     "text": [
      "Epoch 1/6\n",
      "2950/2950 [==============================] - 2131s 721ms/step - loss: 10.6099 - avg_acc: 0.6146 - val_loss: 7.7134 - val_avg_acc: 0.7066\n",
      "Epoch 2/6\n",
      "2950/2950 [==============================] - 1987s 672ms/step - loss: 7.7426 - avg_acc: 0.7128 - val_loss: 7.2668 - val_avg_acc: 0.7067\n",
      "Epoch 3/6\n",
      "2950/2950 [==============================] - 1972s 668ms/step - loss: 7.2418 - avg_acc: 0.7138 - val_loss: 6.7200 - val_avg_acc: 0.7128\n",
      "Epoch 4/6\n",
      "2950/2950 [==============================] - 2013s 682ms/step - loss: 6.7330 - avg_acc: 0.7196 - val_loss: 6.1386 - val_avg_acc: 0.7259\n",
      "Epoch 5/6\n",
      "2950/2950 [==============================] - 2010s 681ms/step - loss: 6.2722 - avg_acc: 0.7288 - val_loss: 5.6436 - val_avg_acc: 0.7406\n",
      "Epoch 6/6\n",
      "2950/2950 [==============================] - 3109s 1s/step - loss: 5.8943 - avg_acc: 0.7386 - val_loss: 5.2544 - val_avg_acc: 0.7527\n"
     ]
    }
   ],
   "source": [
    "lossHistory = LossHistory()\n",
    "#history = mt.teach_model(model, gen_train, [lossHistory])\n",
    "history = mt.teach_model(model, gen_train, [lossHistory], gen_test=gen_test, epochs=6)\n",
    "\n",
    "#mt.save_weights(model)\n",
    "\n",
    "plt.title('Loss')\n",
    "plt.plot(history.history['loss'], label='train')\n",
    "plt.legend()\n",
    "plt.show()"
   ]
  },
  {
   "cell_type": "code",
   "execution_count": 11,
   "metadata": {},
   "outputs": [
    {
     "name": "stdout",
     "output_type": "stream",
     "text": [
      "741/741 [==============================] - 365s 489ms/step - loss: 5.2547 - avg_acc: 0.7527\n",
      "test loss, test acc: [5.254683017730713, 0.7527006268501282]\n"
     ]
    }
   ],
   "source": [
    "historyFile = os.path.realpath(\"history.json\")\n",
    "json.dump(history.history, open(historyFile, 'w'))\n",
    "lossHistoryFile = os.path.realpath(\"lossHistory.json\")\n",
    "json.dump(lossHistory.get_data(), open(lossHistoryFile, 'w'))\n",
    "\n",
    "results = mt.test_model(model, gen_test)\n",
    "print(\"test loss, test acc:\", results)"
   ]
  },
  {
   "cell_type": "code",
   "execution_count": 19,
   "metadata": {},
   "outputs": [
    {
     "data": {
      "text/plain": [
       "{'loss': [18.264070510864258,\n",
       "  18.22051429748535,\n",
       "  18.165611267089844,\n",
       "  18.089155197143555,\n",
       "  17.96691131591797,\n",
       "  17.720401763916016,\n",
       "  17.059518814086914,\n",
       "  14.069555282592773,\n",
       "  9.99571418762207,\n",
       "  9.20816421508789,\n",
       "  8.946211814880371,\n",
       "  8.783968925476074,\n",
       "  8.650217056274414,\n",
       "  8.529457092285156,\n",
       "  8.534322738647461],\n",
       " 'avg_acc': [0.06503904610872269,\n",
       "  0.091145820915699,\n",
       "  0.13539060950279236,\n",
       "  0.2068750262260437,\n",
       "  0.3148828446865082,\n",
       "  0.45065099000930786,\n",
       "  0.5633333325386047,\n",
       "  0.6248569488525391,\n",
       "  0.6933854818344116,\n",
       "  0.7113021016120911,\n",
       "  0.710885763168335,\n",
       "  0.7121224999427795,\n",
       "  0.7108855247497559,\n",
       "  0.7126822471618652,\n",
       "  0.7096484303474426],\n",
       " 'val_loss': [18.246492385864258,\n",
       "  18.197797775268555,\n",
       "  18.123916625976562,\n",
       "  18.017066955566406,\n",
       "  17.841955184936523,\n",
       "  17.453847885131836,\n",
       "  16.237289428710938,\n",
       "  10.450220108032227,\n",
       "  9.12672233581543,\n",
       "  8.843110084533691,\n",
       "  8.43378734588623,\n",
       "  8.265089988708496,\n",
       "  8.28780746459961,\n",
       "  8.162917137145996,\n",
       "  8.267168045043945],\n",
       " 'val_avg_acc': [0.07729166746139526,\n",
       "  0.10744792222976685,\n",
       "  0.18020835518836975,\n",
       "  0.32265621423721313,\n",
       "  0.46802082657814026,\n",
       "  0.5815625190734863,\n",
       "  0.6141145825386047,\n",
       "  0.6970833539962769,\n",
       "  0.7059895396232605,\n",
       "  0.7006771564483643,\n",
       "  0.7105729579925537,\n",
       "  0.7107811570167542,\n",
       "  0.7057813405990601,\n",
       "  0.7069270610809326,\n",
       "  0.6998438239097595]}"
      ]
     },
     "execution_count": 19,
     "metadata": {},
     "output_type": "execute_result"
    }
   ],
   "source": [
    "history.history"
   ]
  },
  {
   "cell_type": "code",
   "execution_count": 12,
   "metadata": {},
   "outputs": [],
   "source": [
    "plt.title('loss')\n",
    "plt.plot(history.history['loss'], label='loss')\n",
    "plt.plot(history.history['val_loss'], label='val_loss')\n",
    "plt.legend()\n",
    "plt.show()"
   ]
  },
  {
   "cell_type": "code",
   "execution_count": 13,
   "metadata": {},
   "outputs": [],
   "source": [
    "plt.title('acc')\n",
    "plt.plot(history.history['avg_acc'], label='avg_acc')\n",
    "plt.plot(history.history['val_avg_acc'], label='val_avg_acc')\n",
    "plt.legend()\n",
    "plt.show()"
   ]
  },
  {
   "cell_type": "code",
   "execution_count": 15,
   "metadata": {},
   "outputs": [],
   "source": [
    "historyData = lossHistory.get_data()"
   ]
  },
  {
   "cell_type": "code",
   "execution_count": 16,
   "metadata": {},
   "outputs": [],
   "source": [
    "plt.title('history acc')\n",
    "plt.plot(historyData['avg_acc'], label='avg_acc')\n",
    "plt.legend()\n",
    "plt.show()"
   ]
  },
  {
   "cell_type": "code",
   "execution_count": 17,
   "metadata": {},
   "outputs": [],
   "source": [
    "plt.title('history loss')\n",
    "plt.plot(historyData['loss'], label='loss')\n",
    "plt.legend()\n",
    "plt.show()"
   ]
  },
  {
   "cell_type": "code",
   "execution_count": 18,
   "metadata": {},
   "outputs": [],
   "source": [
    "mt.save_weights(model)"
   ]
  },
  {
   "attachments": {},
   "cell_type": "markdown",
   "metadata": {},
   "source": [
    "## Тест"
   ]
  },
  {
   "cell_type": "code",
   "execution_count": 2,
   "metadata": {},
   "outputs": [],
   "source": [
    "model = cnnModel.create_model()\n",
    "model.load_weights(os.path.join(\".\", Settings.weights_path))"
   ]
  },
  {
   "cell_type": "code",
   "execution_count": 3,
   "metadata": {},
   "outputs": [
    {
     "name": "stdout",
     "output_type": "stream",
     "text": [
      "3/3 [==============================] - 0s 68ms/step\n"
     ]
    }
   ],
   "source": [
    "from AudioPreprocessor import AudioPreprocessor\n",
    "from PredictionGenerator import PredictionGenerator\n",
    "\n",
    "a = AudioPreprocessor()\n",
    "\n",
    "audio = a.process_audiofile('./audio_2022-09-15_14-10-56.mp3')\n",
    "dima_gen  = PredictionGenerator(audio)\n",
    "out = model.predict(dima_gen)"
   ]
  },
  {
   "cell_type": "code",
   "execution_count": 4,
   "metadata": {},
   "outputs": [],
   "source": [
    "import OutputBeautifier as ob\n",
    "\n",
    "b_out = ob.beautify_outputs(out)"
   ]
  },
  {
   "cell_type": "code",
   "execution_count": 5,
   "metadata": {},
   "outputs": [],
   "source": [
    "secs = []\n",
    "with open(\"./dima_out.txt\", mode='w') as dima:\n",
    "    for i in range(len(b_out)):\n",
    "        if b_out[i][0][0] != 1 or b_out[i][1][0] != 1 or b_out[i][2][0] != 1 or b_out[i][3][0] != 1 or b_out[i][4][0] != 1 or b_out[i][5][0] != 1:\n",
    "            dima.write(str(i * Settings.hop_length / Settings.sr_downs) + 's:\\n')\n",
    "            secs.append(i * Settings.hop_length / Settings.sr_downs)\n",
    "            for j in range(6):\n",
    "                for k in range(21):\n",
    "                    dima.write(str(b_out[i][j][k]) + ' ')\n",
    "                dima.write('\\n')\n",
    "            dima.write('\\n')"
   ]
  },
  {
   "cell_type": "code",
   "execution_count": 7,
   "metadata": {},
   "outputs": [],
   "source": [
    "fig, ax = plt.subplots()\n",
    "img = librosa.display.specshow(librosa.amplitude_to_db(np.swapaxes(audio, 1, 0),\n",
    "                                                       ref=np.max),\n",
    "                               y_axis='log', x_axis='time', ax=ax)\n",
    "ax.set_title('Power spectrogram')\n",
    "fig.colorbar(img, ax=ax, format=\"%+2.0f dB\")\n",
    "#for i in range(len(secs)):\n",
    "#    plt.plot([secs[i], secs], [-25, 9300], color='cyan')\n",
    "plt.show()"
   ]
  }
 ],
 "metadata": {
  "kernelspec": {
   "display_name": "Python 3",
   "language": "python",
   "name": "python3"
  },
  "language_info": {
   "codemirror_mode": {
    "name": "ipython",
    "version": 3
   },
   "file_extension": ".py",
   "mimetype": "text/x-python",
   "name": "python",
   "nbconvert_exporter": "python",
   "pygments_lexer": "ipython3",
   "version": "3.10.4"
  },
  "orig_nbformat": 4,
  "vscode": {
   "interpreter": {
    "hash": "a42ccb73e7d9bfdf27e036f1d2b8b681e55fc0743cc5586bc2474d4a60f4b886"
   }
  }
 },
 "nbformat": 4,
 "nbformat_minor": 2
}
