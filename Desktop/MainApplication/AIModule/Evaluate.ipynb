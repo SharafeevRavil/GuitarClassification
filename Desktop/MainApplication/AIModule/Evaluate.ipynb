{
 "cells": [
  {
   "cell_type": "code",
   "execution_count": 6,
   "metadata": {},
   "outputs": [],
   "source": [
    "import CnnModel as cnnModel\n",
    "import os\n",
    "import Settings\n",
    "from ModelTeacher import ModelTeacher\n",
    "from DataGenerator import DataGenerator\n",
    "from matplotlib import pyplot"
   ]
  },
  {
   "cell_type": "code",
   "execution_count": 7,
   "metadata": {},
   "outputs": [],
   "source": [
    "def load_model(ai_module_path = '.'):\n",
    "    model = cnnModel.create_model()\n",
    "    model.load_weights(os.path.join(ai_module_path, Settings.weights_path))\n",
    "    return model"
   ]
  },
  {
   "cell_type": "code",
   "execution_count": 8,
   "metadata": {},
   "outputs": [],
   "source": [
    "model = cnnModel.create_model()"
   ]
  },
  {
   "cell_type": "code",
   "execution_count": 9,
   "metadata": {},
   "outputs": [],
   "source": [
    "mt = ModelTeacher()\n",
    "\n",
    "ids = mt.load_IDs()\n",
    "songs = mt.group_by_song(ids)\n",
    "songs = mt.remove_excess_ids(songs)\n",
    "ids_train, ids_test = mt.split_songs(songs, 42)\n",
    "gen_train = DataGenerator(ids_train)\n",
    "gen_test = DataGenerator(ids_test)"
   ]
  },
  {
   "cell_type": "code",
   "execution_count": 10,
   "metadata": {},
   "outputs": [
    {
     "name": "stdout",
     "output_type": "stream",
     "text": [
      "Epoch 1/4\n",
      "329/329 [==============================] - 271s 812ms/step - loss: 18.1892 - avg_acc: 0.1117 - val_loss: 18.0865 - val_avg_acc: 0.2908\n",
      "Epoch 2/4\n",
      "329/329 [==============================] - 270s 813ms/step - loss: 17.9099 - avg_acc: 0.2601 - val_loss: 17.4696 - val_avg_acc: 0.5661\n",
      "Epoch 3/4\n",
      "329/329 [==============================] - 274s 827ms/step - loss: 15.4315 - avg_acc: 0.4857 - val_loss: 10.2140 - val_avg_acc: 0.7098\n",
      "Epoch 4/4\n",
      "329/329 [==============================] - 275s 829ms/step - loss: 10.4700 - avg_acc: 0.6770 - val_loss: 8.6563 - val_avg_acc: 0.7096\n",
      "82/82 [==============================] - 36s 412ms/step - loss: 8.6529 - avg_acc: 0.7098\n",
      "test loss, test acc: [8.652914047241211, 0.7097782492637634]\n"
     ]
    }
   ],
   "source": [
    "#lossHistory = LossHistory()\n",
    "#history = mt.teach_model(model, gen_train, [lossHistory])\n",
    "history = mt.teach_model(model, gen_train, gen_test=gen_test)\n",
    "\n",
    "#mt.save_weights(model)\n",
    "\n",
    "pyplot.title('Loss')\n",
    "pyplot.plot(history.history['loss'], label='train')\n",
    "pyplot.legend()\n",
    "pyplot.show()\n",
    "\n",
    "#historyFile = os.path.realpath(os.path.join(os.path.dirname(__file__), \"history.json\"))\n",
    "#json.dump(history.history, open(historyFile, 'w'))\n",
    "#lossHistoryFile = os.path.realpath(os.path.join(os.path.dirname(__file__), \"lossHistory.json\"))\n",
    "#json.dump(lossHistory.get_data(), open(lossHistoryFile, 'w'))\n",
    "\n",
    "results = mt.test_model(model, gen_test)\n",
    "print(\"test loss, test acc:\", results)"
   ]
  },
  {
   "cell_type": "code",
   "execution_count": 11,
   "metadata": {},
   "outputs": [
    {
     "data": {
      "text/plain": [
       "{'loss': [18.189170837402344,\n",
       "  17.909921646118164,\n",
       "  15.431541442871094,\n",
       "  10.470005989074707],\n",
       " 'avg_acc': [0.11167836934328079,\n",
       "  0.26006045937538147,\n",
       "  0.4857368767261505,\n",
       "  0.6770476698875427],\n",
       " 'val_loss': [18.08649444580078,\n",
       "  17.46963882446289,\n",
       "  10.213994026184082,\n",
       "  8.656285285949707],\n",
       " 'val_avg_acc': [0.2908250093460083,\n",
       "  0.566120445728302,\n",
       "  0.7097623944282532,\n",
       "  0.7096354961395264]}"
      ]
     },
     "execution_count": 11,
     "metadata": {},
     "output_type": "execute_result"
    }
   ],
   "source": [
    "history.history"
   ]
  },
  {
   "cell_type": "code",
   "execution_count": 15,
   "metadata": {},
   "outputs": [
    {
     "ename": "KeyboardInterrupt",
     "evalue": "",
     "output_type": "error",
     "traceback": [
      "\u001b[1;31m---------------------------------------------------------------------------\u001b[0m",
      "\u001b[1;31mKeyboardInterrupt\u001b[0m                         Traceback (most recent call last)",
      "\u001b[1;32mf:\\Repos\\GuitarClassification\\Desktop\\MainApplication\\AIModule\\Evaluate.ipynb Cell 7\u001b[0m in \u001b[0;36m<cell line: 5>\u001b[1;34m()\u001b[0m\n\u001b[0;32m      <a href='vscode-notebook-cell:/f%3A/Repos/GuitarClassification/Desktop/MainApplication/AIModule/Evaluate.ipynb#X12sZmlsZQ%3D%3D?line=2'>3</a>\u001b[0m pyplot\u001b[39m.\u001b[39mplot(history\u001b[39m.\u001b[39mhistory[\u001b[39m'\u001b[39m\u001b[39mval_loss\u001b[39m\u001b[39m'\u001b[39m], label\u001b[39m=\u001b[39m\u001b[39m'\u001b[39m\u001b[39mval_loss\u001b[39m\u001b[39m'\u001b[39m)\n\u001b[0;32m      <a href='vscode-notebook-cell:/f%3A/Repos/GuitarClassification/Desktop/MainApplication/AIModule/Evaluate.ipynb#X12sZmlsZQ%3D%3D?line=3'>4</a>\u001b[0m pyplot\u001b[39m.\u001b[39mlegend()\n\u001b[1;32m----> <a href='vscode-notebook-cell:/f%3A/Repos/GuitarClassification/Desktop/MainApplication/AIModule/Evaluate.ipynb#X12sZmlsZQ%3D%3D?line=4'>5</a>\u001b[0m pyplot\u001b[39m.\u001b[39;49mshow()\n",
      "File \u001b[1;32m~\\AppData\\Local\\Programs\\Python\\Python310\\lib\\site-packages\\matplotlib\\pyplot.py:368\u001b[0m, in \u001b[0;36mshow\u001b[1;34m(*args, **kwargs)\u001b[0m\n\u001b[0;32m    324\u001b[0m \u001b[39m\"\"\"\u001b[39;00m\n\u001b[0;32m    325\u001b[0m \u001b[39mDisplay all open figures.\u001b[39;00m\n\u001b[0;32m    326\u001b[0m \n\u001b[1;32m   (...)\u001b[0m\n\u001b[0;32m    365\u001b[0m \u001b[39mexplicitly there.\u001b[39;00m\n\u001b[0;32m    366\u001b[0m \u001b[39m\"\"\"\u001b[39;00m\n\u001b[0;32m    367\u001b[0m _warn_if_gui_out_of_main_thread()\n\u001b[1;32m--> 368\u001b[0m \u001b[39mreturn\u001b[39;00m _backend_mod\u001b[39m.\u001b[39mshow(\u001b[39m*\u001b[39margs, \u001b[39m*\u001b[39m\u001b[39m*\u001b[39mkwargs)\n",
      "File \u001b[1;32m~\\AppData\\Local\\Programs\\Python\\Python310\\lib\\site-packages\\matplotlib\\backend_bases.py:3544\u001b[0m, in \u001b[0;36m_Backend.show\u001b[1;34m(cls, block)\u001b[0m\n\u001b[0;32m   3542\u001b[0m         block \u001b[39m=\u001b[39m \u001b[39mTrue\u001b[39;00m\n\u001b[0;32m   3543\u001b[0m \u001b[39mif\u001b[39;00m block:\n\u001b[1;32m-> 3544\u001b[0m     \u001b[39mcls\u001b[39;49m\u001b[39m.\u001b[39;49mmainloop()\n",
      "File \u001b[1;32m~\\AppData\\Local\\Programs\\Python\\Python310\\lib\\site-packages\\matplotlib\\backends\\_backend_tk.py:958\u001b[0m, in \u001b[0;36m_BackendTk.mainloop\u001b[1;34m()\u001b[0m\n\u001b[0;32m    956\u001b[0m manager_class\u001b[39m.\u001b[39m_owns_mainloop \u001b[39m=\u001b[39m \u001b[39mTrue\u001b[39;00m\n\u001b[0;32m    957\u001b[0m \u001b[39mtry\u001b[39;00m:\n\u001b[1;32m--> 958\u001b[0m     first_manager\u001b[39m.\u001b[39;49mwindow\u001b[39m.\u001b[39;49mmainloop()\n\u001b[0;32m    959\u001b[0m \u001b[39mfinally\u001b[39;00m:\n\u001b[0;32m    960\u001b[0m     manager_class\u001b[39m.\u001b[39m_owns_mainloop \u001b[39m=\u001b[39m \u001b[39mFalse\u001b[39;00m\n",
      "File \u001b[1;32m~\\AppData\\Local\\Programs\\Python\\Python310\\Lib\\tkinter\\__init__.py:1458\u001b[0m, in \u001b[0;36mMisc.mainloop\u001b[1;34m(self, n)\u001b[0m\n\u001b[0;32m   1456\u001b[0m \u001b[39mdef\u001b[39;00m \u001b[39mmainloop\u001b[39m(\u001b[39mself\u001b[39m, n\u001b[39m=\u001b[39m\u001b[39m0\u001b[39m):\n\u001b[0;32m   1457\u001b[0m     \u001b[39m\"\"\"Call the mainloop of Tk.\"\"\"\u001b[39;00m\n\u001b[1;32m-> 1458\u001b[0m     \u001b[39mself\u001b[39;49m\u001b[39m.\u001b[39;49mtk\u001b[39m.\u001b[39;49mmainloop(n)\n",
      "\u001b[1;31mKeyboardInterrupt\u001b[0m: "
     ]
    }
   ],
   "source": [
    "pyplot.title('train')\n",
    "pyplot.plot(history.history['loss'], label='loss')\n",
    "pyplot.plot(history.history['val_loss'], label='val_loss')\n",
    "pyplot.legend()\n",
    "pyplot.show()"
   ]
  },
  {
   "cell_type": "code",
   "execution_count": 16,
   "metadata": {},
   "outputs": [],
   "source": [
    "pyplot.title('train')\n",
    "pyplot.plot(history.history['avg_acc'], label='avg_acc')\n",
    "pyplot.plot(history.history['val_avg_acc'], label='val_avg_acc')\n",
    "pyplot.legend()\n",
    "pyplot.show()"
   ]
  }
 ],
 "metadata": {
  "kernelspec": {
   "display_name": "Python 3",
   "language": "python",
   "name": "python3"
  },
  "language_info": {
   "codemirror_mode": {
    "name": "ipython",
    "version": 3
   },
   "file_extension": ".py",
   "mimetype": "text/x-python",
   "name": "python",
   "nbconvert_exporter": "python",
   "pygments_lexer": "ipython3",
   "version": "3.10.4"
  },
  "orig_nbformat": 4,
  "vscode": {
   "interpreter": {
    "hash": "369f2c481f4da34e4445cda3fffd2e751bd1c4d706f27375911949ba6bb62e1c"
   }
  }
 },
 "nbformat": 4,
 "nbformat_minor": 2
}
