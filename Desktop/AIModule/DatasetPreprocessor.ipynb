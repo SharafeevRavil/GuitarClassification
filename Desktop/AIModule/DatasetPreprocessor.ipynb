{
 "cells": [
  {
   "cell_type": "code",
   "execution_count": 21,
   "metadata": {},
   "outputs": [],
   "source": [
    "import os\n",
    "import numpy as np\n",
    "import jams\n",
    "from scipy.io import wavfile\n",
    "import sys\n",
    "import librosa\n",
    "from keras.utils import to_categorical\n",
    "\n",
    "class DatasetPreprocessor:\n",
    "    \n",
    "    def __init__(self):\n",
    "        path = \"./GuitarSet/\"\n",
    "        self.path_audio = path + \"audio/mic/\"\n",
    "        self.path_anno = path + \"annotation/\"\n",
    "        \n",
    "        self.string_midi_pitches = [40,45,50,55,59,64]\n",
    "        self.highest_fret = 19\n",
    "        self.num_classes = self.highest_fret + 2 # открытая/не играется\n",
    "        \n",
    "        self.need_to_downsample = True\n",
    "        self.need_to_normalize = True\n",
    "        self.sr_downs = 22050\n",
    "        \n",
    "        self.cqt_n_bins = 192\n",
    "        self.cqt_bins_per_octave = 24\n",
    "        self.hop_length = 512 #длина фрейма в герцах\n",
    "        #длина фрейма в секундах - hop_length / sr\n",
    "\n",
    "    def load_file(self, filename):\n",
    "        file_audio = self.path_audio + filename + \"_mic.wav\"\n",
    "        file_anno = self.path_anno + filename + \".jams\"\n",
    "        jam = jams.load(file_anno)\n",
    "        sr_original, data = wavfile.read(file_audio)\n",
    "        return sr_original, data, jam\n",
    "\n",
    "    def process_audiofile(self, filename):\n",
    "        sr_original, data, jam = self.load_file(filename)\n",
    "        \n",
    "        data = self.normalize(data)\n",
    "        data = self.downsample(data, sr_original, self.sr_downs)\n",
    "        audio_chunks = np.swapaxes(self.cqt(data, self.sr_downs),0,1)\n",
    "        \n",
    "        chunk_indices = range(len(audio_chunks))\n",
    "        times = librosa.frames_to_time(chunk_indices, sr = self.sr_downs, hop_length=self.hop_length)\n",
    "        \n",
    "        frets = []\n",
    "        for string_num in range(6):\n",
    "            anno = jam.annotations[\"note_midi\"][string_num]\n",
    "            string_note_samples = anno.to_samples(times)\n",
    "            string_fret_samples = []\n",
    "            for i in chunk_indices:\n",
    "                if string_note_samples[i] == []:\n",
    "                    string_fret_samples.append(-1)\n",
    "                else:\n",
    "                    #номер лада = миди номер из файла - миди номер ноты открытой струны\n",
    "                    #каждый лад отличается друг от друга на полутон\n",
    "                    #миди ноты тоже отличаются друг от друга на полутон\n",
    "                    string_fret_samples.append(int(round(string_note_samples[i][0]) - self.string_midi_pitches[string_num]))\n",
    "            frets.append([string_fret_samples])\n",
    "            \n",
    "        frets = np.array(frets)\n",
    "        frets = np.squeeze(frets)\n",
    "        frets = np.swapaxes(frets,0,1)\n",
    "        \n",
    "        frets = self.clean_frets(frets)\n",
    "\n",
    "        return audio_chunks, frets\n",
    "    \n",
    "    def correct_numbering(self, n):\n",
    "        n += 1\n",
    "        if n < 0:\n",
    "            n = 0\n",
    "        elif n > self.highest_fret + 1:\n",
    "            n = self.highest_fret + 1\n",
    "        return n\n",
    "    \n",
    "    def categorical(self, fret):\n",
    "        return to_categorical(fret, self.num_classes)\n",
    "    \n",
    "    def clean_fret(self, fret):\n",
    "        fret = [self.correct_numbering(n) for n in fret]\n",
    "        return self.categorical(fret)\n",
    "    \n",
    "    def clean_frets(self, frets):\n",
    "        return np.array([self.clean_fret(fret) for fret in frets])\n",
    "\n",
    "    def normalize(self, data):\n",
    "        data = data.astype(float)            \n",
    "        data = librosa.util.normalize(data)\n",
    "        return data\n",
    "\n",
    "    def downsample(self, data, sr_original, sr_downs):\n",
    "        data = data.astype(float)            \n",
    "        data = librosa.resample(data, sr_original, sr_downs)\n",
    "        return data\n",
    "\n",
    "    def cqt(self, data, sr):\n",
    "        data = data.astype(float)            \n",
    "        data = np.abs(librosa.cqt(data,\n",
    "            hop_length=self.hop_length, \n",
    "            sr=sr, \n",
    "            n_bins=self.cqt_n_bins, \n",
    "            bins_per_octave=self.cqt_bins_per_octave))\n",
    "        return data                                            "
   ]
  },
  {
   "cell_type": "code",
   "execution_count": 59,
   "metadata": {},
   "outputs": [
    {
     "name": "stderr",
     "output_type": "stream",
     "text": [
      "C:\\Users\\dimao\\AppData\\Local\\Temp\\ipykernel_16612\\2829708865.py:102: FutureWarning: Pass orig_sr=44100, target_sr=22050 as keyword args. From version 0.10 passing these as positional arguments will result in an error\n",
      "  data = librosa.resample(data, sr_original, sr_downs)\n"
     ]
    },
    {
     "data": {
      "text/plain": [
       "1263"
      ]
     },
     "execution_count": 59,
     "metadata": {},
     "output_type": "execute_result"
    }
   ],
   "source": [
    "g = DatasetPreprocessor()\n",
    "a, b = g.process_audiofile('00_BN2-131-B_solo')\n",
    "len(a)"
   ]
  },
  {
   "cell_type": "code",
   "execution_count": 61,
   "metadata": {},
   "outputs": [
    {
     "data": {
      "text/plain": [
       "(1263, 192)"
      ]
     },
     "execution_count": 61,
     "metadata": {},
     "output_type": "execute_result"
    }
   ],
   "source": [
    "a.shape"
   ]
  },
  {
   "cell_type": "code",
   "execution_count": 69,
   "metadata": {},
   "outputs": [
    {
     "data": {
      "image/png": "[encoded data removed]",
      "text/plain": [
       "<Figure size 432x288 with 2 Axes>"
      ]
     },
     "metadata": {
      "needs_background": "light"
     },
     "output_type": "display_data"
    }
   ],
   "source": [
    "import librosa.display\n",
    "import matplotlib.pyplot as plt\n",
    "\n",
    "fig, ax = plt.subplots()\n",
    "img = librosa.display.specshow(librosa.amplitude_to_db(np.swapaxes(a[0:9], 0, 1),\n",
    "                                                       ref=np.max),\n",
    "                               y_axis='log', x_axis='time', ax=ax)\n",
    "ax.set_title('Power spectrogram')\n",
    "fig.colorbar(img, ax=ax, format=\"%+2.0f dB\")\n",
    "plt.show()"
   ]
  }
 ],
 "metadata": {
  "kernelspec": {
   "display_name": "Python 3.10.4 64-bit",
   "language": "python",
   "name": "python3"
  },
  "language_info": {
   "codemirror_mode": {
    "name": "ipython",
    "version": 3
   },
   "file_extension": ".py",
   "mimetype": "text/x-python",
   "name": "python",
   "nbconvert_exporter": "python",
   "pygments_lexer": "ipython3",
   "version": "3.10.4"
  },
  "orig_nbformat": 4,
  "vscode": {
   "interpreter": {
    "hash": "369f2c481f4da34e4445cda3fffd2e751bd1c4d706f27375911949ba6bb62e1c"
   }
  }
 },
 "nbformat": 4,
 "nbformat_minor": 2
}
