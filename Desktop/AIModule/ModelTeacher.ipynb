{
 "cells": [
  {
   "cell_type": "code",
   "execution_count": 8,
   "metadata": {},
   "outputs": [],
   "source": [
    "import keras\n",
    "import os\n",
    "from keras.models import Sequential\n",
    "from keras.layers import Dense, Dropout, Flatten, Reshape, Activation\n",
    "from keras.layers import Conv2D, MaxPooling2D, Conv1D, Lambda\n",
    "from keras import backend as K\n",
    "import pandas as pd\n",
    "import numpy as np\n",
    "import datetime\n",
    "from DatasetPreprocessor import DatasetPreprocessor"
   ]
  },
  {
   "cell_type": "code",
   "execution_count": 12,
   "metadata": {},
   "outputs": [],
   "source": [
    "con_win_size = 9\n",
    "num_classes = 21\n",
    "num_strings = 6\n",
    "input_shape = (192, con_win_size, 1)\n",
    "\n",
    "filename = '00_BN2-131-B_solo'\n",
    "dataset = DatasetPreprocessor()"
   ]
  },
  {
   "cell_type": "code",
   "execution_count": 22,
   "metadata": {},
   "outputs": [],
   "source": [
    "#наверное надо было в класс вынести, но пох\n",
    "class DataGenerator(keras.utils.Sequence):\n",
    "    \n",
    "    def __init__(self, list_IDs, x_raw, y_raw, batch_size=128, shuffle=True, label_dim = (6,21), spec_repr=\"c\", con_win_size=9):\n",
    "        \n",
    "        self.list_IDs = list_IDs\n",
    "        self.x_raw = x_raw\n",
    "        self.y_raw = y_raw\n",
    "        self.batch_size = batch_size\n",
    "        self.shuffle = shuffle\n",
    "        self.label_dim = label_dim\n",
    "        self.spec_repr = spec_repr\n",
    "        self.con_win_size = con_win_size\n",
    "        self.halfwin = con_win_size // 2\n",
    "        \n",
    "        self.X_dim = (self.batch_size, 192, self.con_win_size, 1)\n",
    "        self.y_dim = (self.batch_size, self.label_dim[0], self.label_dim[1])\n",
    "                    \n",
    "        self.on_epoch_end()\n",
    "\n",
    "    #первые 3 метода дефолтные (на https://stanford.edu/~shervine/blog/keras-how-to-generate-data-on-the-fly тоже самое)   \n",
    "    def __len__(self):\n",
    "        return int(np.floor(float(len(self.list_IDs)) / self.batch_size))\n",
    "    \n",
    "    def __getitem__(self, index):\n",
    "        indexes = self.indexes[index*self.batch_size:(index+1)*self.batch_size]\n",
    "        \n",
    "        list_IDs_temp = [self.list_IDs[k] for k in indexes]\n",
    "        \n",
    "        X, y = self.__data_generation(list_IDs_temp)\n",
    "        \n",
    "        return X, y\n",
    "    \n",
    "    def on_epoch_end(self):\n",
    "        self.indexes = np.arange(len(self.list_IDs))\n",
    "        if self.shuffle == True:\n",
    "            np.random.shuffle(self.indexes)\n",
    "        \n",
    "    def __data_generation(self, list_IDs_temp):\n",
    "        X = np.empty(self.X_dim)\n",
    "        y = np.empty(self.y_dim)\n",
    "\n",
    "        for i, ID in enumerate(list_IDs_temp):\n",
    "\n",
    "            # у чела для всех 22мс кусков всех аудиофайлов записаны индексы в отдельном файле (data/spec_repr/id.csv)\n",
    "            # тут чел получает полный нарезанный аудиофайл, к куску которого относится текущий индекс\n",
    "            #data_dir = self.data_path + self.spec_repr + \"/\"\n",
    "            #filename = \"_\".join(ID.split(\"_\")[:-1]) + \".npz\"\n",
    "            #frame_idx = int(ID.split(\"_\")[-1])\n",
    "            \n",
    "            # тут он к аудиофайлу добавляет края размером в 4 (полвина от 9) (хз причём тут ядро свёртки, оно в моделе 3x3)\n",
    "            # когда он берёт кусок от файла по индексу, он берёт 9 кусоков\n",
    "            #loaded = np.load(data_dir + filename)\n",
    "            #full_x = np.pad(loaded[\"repr\"], [(self.halfwin,self.halfwin), (0,0)], mode='constant')\n",
    "            #sample_x = full_x[frame_idx : frame_idx + self.con_win_size]\n",
    "            #X[i,] = np.expand_dims(np.swapaxes(sample_x, 0, 1), -1)\n",
    "\n",
    "            #y[i,] = loaded[\"labels\"][frame_idx]\n",
    "\n",
    "            #вместо того, чтобы загружать из файла, один аудиофайл гружу в параметрах класса и беру из поля\n",
    "            #предобрабатываю так же, как и чел\n",
    "            #наверное, придётся в файлах сохранять аудио и лады, т.к. иначе будем грузить весь гигабайт музыки в память\n",
    "            full_x = np.pad(self.x_raw, [(self.halfwin,self.halfwin), (0,0)], mode='constant')\n",
    "            sample_x = full_x[ID : ID + self.con_win_size]\n",
    "            X[i,] = np.expand_dims(np.swapaxes(sample_x, 0, 1), -1)\n",
    "\n",
    "            y[i,] = self.y_raw[ID]\n",
    "\n",
    "        return X, y"
   ]
  },
  {
   "cell_type": "code",
   "execution_count": 3,
   "metadata": {},
   "outputs": [],
   "source": [
    "def softmax_by_string(t):\n",
    "    string_sm = []\n",
    "    for i in range(num_strings):\n",
    "        string_sm.append(K.expand_dims(K.softmax(t[:,i,:]), axis=1))\n",
    "    return K.concatenate(string_sm, axis=1)\n",
    "\n",
    "def catcross_by_string(target, output):\n",
    "    loss = 0\n",
    "    for i in range(num_strings):\n",
    "        loss += K.categorical_crossentropy(target[:,i,:], output[:,i,:])\n",
    "    return loss\n",
    "\n",
    "def avg_acc(y_true, y_pred):\n",
    "    return K.mean(K.equal(K.argmax(y_true, axis=-1), K.argmax(y_pred, axis=-1)))"
   ]
  },
  {
   "cell_type": "code",
   "execution_count": 4,
   "metadata": {},
   "outputs": [],
   "source": [
    "#тут ничё не менял\n",
    "model = Sequential()\n",
    "model.add(Conv2D(32, kernel_size=(3, 3),\n",
    "                        activation='relu',\n",
    "                        input_shape=input_shape))\n",
    "model.add(Conv2D(64, (3, 3), activation='relu'))\n",
    "model.add(Conv2D(64, (3, 3), activation='relu'))\n",
    "model.add(MaxPooling2D(pool_size=(2, 2)))\n",
    "model.add(Dropout(0.25))   \n",
    "model.add(Flatten())\n",
    "model.add(Dense(128, activation='relu'))\n",
    "model.add(Dropout(0.5))\n",
    "model.add(Dense(num_classes * num_strings))\n",
    "model.add(Reshape((num_strings, num_classes)))\n",
    "model.add(Activation(softmax_by_string))\n",
    "\n",
    "model.compile(loss=catcross_by_string,\n",
    "                optimizer=keras.optimizers.Adadelta(),\n",
    "                metrics=[avg_acc])"
   ]
  },
  {
   "cell_type": "code",
   "execution_count": 11,
   "metadata": {},
   "outputs": [
    {
     "name": "stderr",
     "output_type": "stream",
     "text": [
      "f:\\Repos\\GuitarClassification\\Desktop\\AIModule\\DatasetPreprocessor.py:94: FutureWarning: Pass orig_sr=44100, target_sr=22050 as keyword args. From version 0.10 passing these as positional arguments will result in an error\n",
      "  data = librosa.resample(data, sr_original, sr_downs)\n"
     ]
    }
   ],
   "source": [
    "x_raw, y_raw = dataset.process_audiofile(filename)"
   ]
  },
  {
   "cell_type": "code",
   "execution_count": 21,
   "metadata": {},
   "outputs": [],
   "source": [
    "#делю айдишники на обучение и тест\n",
    "train_ids = []\n",
    "test_ids = []\n",
    "ids = list(range(0,len(x_raw)))\n",
    "for i in ids:\n",
    "    result = np.random.choice(2, p=[.65,.35])\n",
    "    if result == 1:\n",
    "        test_ids.append(i)\n",
    "    else:\n",
    "        train_ids.append(i)"
   ]
  },
  {
   "cell_type": "code",
   "execution_count": 23,
   "metadata": {},
   "outputs": [],
   "source": [
    "train_generator = DataGenerator(train_ids, x_raw, y_raw, shuffle=True)\n",
    "test_generator = DataGenerator(test_ids, x_raw, y_raw, shuffle=True)"
   ]
  },
  {
   "cell_type": "code",
   "execution_count": 24,
   "metadata": {},
   "outputs": [
    {
     "name": "stderr",
     "output_type": "stream",
     "text": [
      "C:\\Users\\dimao\\AppData\\Local\\Temp\\ipykernel_2672\\1306836756.py:1: UserWarning: `Model.fit_generator` is deprecated and will be removed in a future version. Please use `Model.fit`, which supports generators.\n",
      "  model.fit_generator(generator=train_generator,\n"
     ]
    },
    {
     "name": "stdout",
     "output_type": "stream",
     "text": [
      "Epoch 1/8\n"
     ]
    }
   ],
   "source": [
    "#вроде фит запустился, но одну эпоху для одного аудиофайла прогоняло 2 часа, после этого забил\n",
    "#хз с многопоточкой проблема, с железом или я чёто не так сделал\n",
    "model.fit_generator(generator=train_generator,\n",
    "                    validation_data=None,\n",
    "                    epochs=8,\n",
    "                    verbose=1,\n",
    "                    use_multiprocessing=True,\n",
    "                    workers=9)"
   ]
  }
 ],
 "metadata": {
  "kernelspec": {
   "display_name": "Python 3.10.4 64-bit",
   "language": "python",
   "name": "python3"
  },
  "language_info": {
   "codemirror_mode": {
    "name": "ipython",
    "version": 3
   },
   "file_extension": ".py",
   "mimetype": "text/x-python",
   "name": "python",
   "nbconvert_exporter": "python",
   "pygments_lexer": "ipython3",
   "version": "3.10.4"
  },
  "orig_nbformat": 4,
  "vscode": {
   "interpreter": {
    "hash": "369f2c481f4da34e4445cda3fffd2e751bd1c4d706f27375911949ba6bb62e1c"
   }
  }
 },
 "nbformat": 4,
 "nbformat_minor": 2
}
